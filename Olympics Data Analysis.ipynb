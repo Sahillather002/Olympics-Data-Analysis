{
 "cells": [
  {
   "cell_type": "markdown",
   "metadata": {},
   "source": [
    " # Olympics Data Analysis"
   ]
  },
  {
   "cell_type": "code",
   "execution_count": 11,
   "metadata": {},
   "outputs": [],
   "source": [
    "import pandas as pd"
   ]
  },
  {
   "cell_type": "code",
   "execution_count": 14,
   "metadata": {},
   "outputs": [
    {
     "name": "stdout",
     "output_type": "stream",
     "text": [
      " Volume in drive C has no label.\n",
      " Volume Serial Number is 10E7-B542\n",
      "\n",
      " Directory of C:\\Users\\sahil\\Elite Techno Group\n",
      "\n",
      "13-09-2021  15:49    <DIR>          .\n",
      "13-09-2021  15:49    <DIR>          ..\n",
      "13-09-2021  15:44    <DIR>          .ipynb_checkpoints\n",
      "13-09-2021  15:20            19,819 GOOG.csv\n",
      "13-09-2021  15:48         1,458,470 olympic.csv\n",
      "13-09-2021  15:41    <DIR>          Olympics data set\n",
      "13-09-2021  15:10            15,057 python libraries 1.ipynb\n",
      "13-09-2021  15:43            45,165 Python libraries 2.ipynb\n",
      "07-09-2021  15:26            20,048 Record.ipynb\n",
      "13-09-2021  15:49             9,880 Summer Olympics Data Analysis.ipynb\n",
      "               6 File(s)      1,568,439 bytes\n",
      "               4 Dir(s)  19,663,470,592 bytes free\n"
     ]
    }
   ],
   "source": [
    "ls"
   ]
  },
  {
   "cell_type": "code",
   "execution_count": 16,
   "metadata": {},
   "outputs": [],
   "source": [
    "df = pd.read_csv(\"athlete_events.csv\")"
   ]
  },
  {
   "cell_type": "code",
   "execution_count": 17,
   "metadata": {},
   "outputs": [
    {
     "data": {
      "text/html": [
       "<div>\n",
       "<style scoped>\n",
       "    .dataframe tbody tr th:only-of-type {\n",
       "        vertical-align: middle;\n",
       "    }\n",
       "\n",
       "    .dataframe tbody tr th {\n",
       "        vertical-align: top;\n",
       "    }\n",
       "\n",
       "    .dataframe thead th {\n",
       "        text-align: right;\n",
       "    }\n",
       "</style>\n",
       "<table border=\"1\" class=\"dataframe\">\n",
       "  <thead>\n",
       "    <tr style=\"text-align: right;\">\n",
       "      <th></th>\n",
       "      <th>ID</th>\n",
       "      <th>Name</th>\n",
       "      <th>Sex</th>\n",
       "      <th>Age</th>\n",
       "      <th>Height</th>\n",
       "      <th>Weight</th>\n",
       "      <th>Team</th>\n",
       "      <th>NOC</th>\n",
       "      <th>Games</th>\n",
       "      <th>Year</th>\n",
       "      <th>Season</th>\n",
       "      <th>City</th>\n",
       "      <th>Sport</th>\n",
       "      <th>Event</th>\n",
       "      <th>Medal</th>\n",
       "    </tr>\n",
       "  </thead>\n",
       "  <tbody>\n",
       "    <tr>\n",
       "      <th>0</th>\n",
       "      <td>1</td>\n",
       "      <td>A Dijiang</td>\n",
       "      <td>M</td>\n",
       "      <td>24.0</td>\n",
       "      <td>180.0</td>\n",
       "      <td>80.0</td>\n",
       "      <td>China</td>\n",
       "      <td>CHN</td>\n",
       "      <td>1992 Summer</td>\n",
       "      <td>1992</td>\n",
       "      <td>Summer</td>\n",
       "      <td>Barcelona</td>\n",
       "      <td>Basketball</td>\n",
       "      <td>Basketball Men's Basketball</td>\n",
       "      <td>NaN</td>\n",
       "    </tr>\n",
       "    <tr>\n",
       "      <th>1</th>\n",
       "      <td>2</td>\n",
       "      <td>A Lamusi</td>\n",
       "      <td>M</td>\n",
       "      <td>23.0</td>\n",
       "      <td>170.0</td>\n",
       "      <td>60.0</td>\n",
       "      <td>China</td>\n",
       "      <td>CHN</td>\n",
       "      <td>2012 Summer</td>\n",
       "      <td>2012</td>\n",
       "      <td>Summer</td>\n",
       "      <td>London</td>\n",
       "      <td>Judo</td>\n",
       "      <td>Judo Men's Extra-Lightweight</td>\n",
       "      <td>NaN</td>\n",
       "    </tr>\n",
       "    <tr>\n",
       "      <th>2</th>\n",
       "      <td>3</td>\n",
       "      <td>Gunnar Nielsen Aaby</td>\n",
       "      <td>M</td>\n",
       "      <td>24.0</td>\n",
       "      <td>NaN</td>\n",
       "      <td>NaN</td>\n",
       "      <td>Denmark</td>\n",
       "      <td>DEN</td>\n",
       "      <td>1920 Summer</td>\n",
       "      <td>1920</td>\n",
       "      <td>Summer</td>\n",
       "      <td>Antwerpen</td>\n",
       "      <td>Football</td>\n",
       "      <td>Football Men's Football</td>\n",
       "      <td>NaN</td>\n",
       "    </tr>\n",
       "    <tr>\n",
       "      <th>3</th>\n",
       "      <td>4</td>\n",
       "      <td>Edgar Lindenau Aabye</td>\n",
       "      <td>M</td>\n",
       "      <td>34.0</td>\n",
       "      <td>NaN</td>\n",
       "      <td>NaN</td>\n",
       "      <td>Denmark/Sweden</td>\n",
       "      <td>DEN</td>\n",
       "      <td>1900 Summer</td>\n",
       "      <td>1900</td>\n",
       "      <td>Summer</td>\n",
       "      <td>Paris</td>\n",
       "      <td>Tug-Of-War</td>\n",
       "      <td>Tug-Of-War Men's Tug-Of-War</td>\n",
       "      <td>Gold</td>\n",
       "    </tr>\n",
       "    <tr>\n",
       "      <th>4</th>\n",
       "      <td>5</td>\n",
       "      <td>Christine Jacoba Aaftink</td>\n",
       "      <td>F</td>\n",
       "      <td>21.0</td>\n",
       "      <td>185.0</td>\n",
       "      <td>82.0</td>\n",
       "      <td>Netherlands</td>\n",
       "      <td>NED</td>\n",
       "      <td>1988 Winter</td>\n",
       "      <td>1988</td>\n",
       "      <td>Winter</td>\n",
       "      <td>Calgary</td>\n",
       "      <td>Speed Skating</td>\n",
       "      <td>Speed Skating Women's 500 metres</td>\n",
       "      <td>NaN</td>\n",
       "    </tr>\n",
       "    <tr>\n",
       "      <th>...</th>\n",
       "      <td>...</td>\n",
       "      <td>...</td>\n",
       "      <td>...</td>\n",
       "      <td>...</td>\n",
       "      <td>...</td>\n",
       "      <td>...</td>\n",
       "      <td>...</td>\n",
       "      <td>...</td>\n",
       "      <td>...</td>\n",
       "      <td>...</td>\n",
       "      <td>...</td>\n",
       "      <td>...</td>\n",
       "      <td>...</td>\n",
       "      <td>...</td>\n",
       "      <td>...</td>\n",
       "    </tr>\n",
       "    <tr>\n",
       "      <th>271111</th>\n",
       "      <td>135569</td>\n",
       "      <td>Andrzej ya</td>\n",
       "      <td>M</td>\n",
       "      <td>29.0</td>\n",
       "      <td>179.0</td>\n",
       "      <td>89.0</td>\n",
       "      <td>Poland-1</td>\n",
       "      <td>POL</td>\n",
       "      <td>1976 Winter</td>\n",
       "      <td>1976</td>\n",
       "      <td>Winter</td>\n",
       "      <td>Innsbruck</td>\n",
       "      <td>Luge</td>\n",
       "      <td>Luge Mixed (Men)'s Doubles</td>\n",
       "      <td>NaN</td>\n",
       "    </tr>\n",
       "    <tr>\n",
       "      <th>271112</th>\n",
       "      <td>135570</td>\n",
       "      <td>Piotr ya</td>\n",
       "      <td>M</td>\n",
       "      <td>27.0</td>\n",
       "      <td>176.0</td>\n",
       "      <td>59.0</td>\n",
       "      <td>Poland</td>\n",
       "      <td>POL</td>\n",
       "      <td>2014 Winter</td>\n",
       "      <td>2014</td>\n",
       "      <td>Winter</td>\n",
       "      <td>Sochi</td>\n",
       "      <td>Ski Jumping</td>\n",
       "      <td>Ski Jumping Men's Large Hill, Individual</td>\n",
       "      <td>NaN</td>\n",
       "    </tr>\n",
       "    <tr>\n",
       "      <th>271113</th>\n",
       "      <td>135570</td>\n",
       "      <td>Piotr ya</td>\n",
       "      <td>M</td>\n",
       "      <td>27.0</td>\n",
       "      <td>176.0</td>\n",
       "      <td>59.0</td>\n",
       "      <td>Poland</td>\n",
       "      <td>POL</td>\n",
       "      <td>2014 Winter</td>\n",
       "      <td>2014</td>\n",
       "      <td>Winter</td>\n",
       "      <td>Sochi</td>\n",
       "      <td>Ski Jumping</td>\n",
       "      <td>Ski Jumping Men's Large Hill, Team</td>\n",
       "      <td>NaN</td>\n",
       "    </tr>\n",
       "    <tr>\n",
       "      <th>271114</th>\n",
       "      <td>135571</td>\n",
       "      <td>Tomasz Ireneusz ya</td>\n",
       "      <td>M</td>\n",
       "      <td>30.0</td>\n",
       "      <td>185.0</td>\n",
       "      <td>96.0</td>\n",
       "      <td>Poland</td>\n",
       "      <td>POL</td>\n",
       "      <td>1998 Winter</td>\n",
       "      <td>1998</td>\n",
       "      <td>Winter</td>\n",
       "      <td>Nagano</td>\n",
       "      <td>Bobsleigh</td>\n",
       "      <td>Bobsleigh Men's Four</td>\n",
       "      <td>NaN</td>\n",
       "    </tr>\n",
       "    <tr>\n",
       "      <th>271115</th>\n",
       "      <td>135571</td>\n",
       "      <td>Tomasz Ireneusz ya</td>\n",
       "      <td>M</td>\n",
       "      <td>34.0</td>\n",
       "      <td>185.0</td>\n",
       "      <td>96.0</td>\n",
       "      <td>Poland</td>\n",
       "      <td>POL</td>\n",
       "      <td>2002 Winter</td>\n",
       "      <td>2002</td>\n",
       "      <td>Winter</td>\n",
       "      <td>Salt Lake City</td>\n",
       "      <td>Bobsleigh</td>\n",
       "      <td>Bobsleigh Men's Four</td>\n",
       "      <td>NaN</td>\n",
       "    </tr>\n",
       "  </tbody>\n",
       "</table>\n",
       "<p>271116 rows × 15 columns</p>\n",
       "</div>"
      ],
      "text/plain": [
       "            ID                      Name Sex   Age  Height  Weight  \\\n",
       "0            1                 A Dijiang   M  24.0   180.0    80.0   \n",
       "1            2                  A Lamusi   M  23.0   170.0    60.0   \n",
       "2            3       Gunnar Nielsen Aaby   M  24.0     NaN     NaN   \n",
       "3            4      Edgar Lindenau Aabye   M  34.0     NaN     NaN   \n",
       "4            5  Christine Jacoba Aaftink   F  21.0   185.0    82.0   \n",
       "...        ...                       ...  ..   ...     ...     ...   \n",
       "271111  135569                Andrzej ya   M  29.0   179.0    89.0   \n",
       "271112  135570                  Piotr ya   M  27.0   176.0    59.0   \n",
       "271113  135570                  Piotr ya   M  27.0   176.0    59.0   \n",
       "271114  135571        Tomasz Ireneusz ya   M  30.0   185.0    96.0   \n",
       "271115  135571        Tomasz Ireneusz ya   M  34.0   185.0    96.0   \n",
       "\n",
       "                  Team  NOC        Games  Year  Season            City  \\\n",
       "0                China  CHN  1992 Summer  1992  Summer       Barcelona   \n",
       "1                China  CHN  2012 Summer  2012  Summer          London   \n",
       "2              Denmark  DEN  1920 Summer  1920  Summer       Antwerpen   \n",
       "3       Denmark/Sweden  DEN  1900 Summer  1900  Summer           Paris   \n",
       "4          Netherlands  NED  1988 Winter  1988  Winter         Calgary   \n",
       "...                ...  ...          ...   ...     ...             ...   \n",
       "271111        Poland-1  POL  1976 Winter  1976  Winter       Innsbruck   \n",
       "271112          Poland  POL  2014 Winter  2014  Winter           Sochi   \n",
       "271113          Poland  POL  2014 Winter  2014  Winter           Sochi   \n",
       "271114          Poland  POL  1998 Winter  1998  Winter          Nagano   \n",
       "271115          Poland  POL  2002 Winter  2002  Winter  Salt Lake City   \n",
       "\n",
       "                Sport                                     Event Medal  \n",
       "0          Basketball               Basketball Men's Basketball   NaN  \n",
       "1                Judo              Judo Men's Extra-Lightweight   NaN  \n",
       "2            Football                   Football Men's Football   NaN  \n",
       "3          Tug-Of-War               Tug-Of-War Men's Tug-Of-War  Gold  \n",
       "4       Speed Skating          Speed Skating Women's 500 metres   NaN  \n",
       "...               ...                                       ...   ...  \n",
       "271111           Luge                Luge Mixed (Men)'s Doubles   NaN  \n",
       "271112    Ski Jumping  Ski Jumping Men's Large Hill, Individual   NaN  \n",
       "271113    Ski Jumping        Ski Jumping Men's Large Hill, Team   NaN  \n",
       "271114      Bobsleigh                      Bobsleigh Men's Four   NaN  \n",
       "271115      Bobsleigh                      Bobsleigh Men's Four   NaN  \n",
       "\n",
       "[271116 rows x 15 columns]"
      ]
     },
     "execution_count": 17,
     "metadata": {},
     "output_type": "execute_result"
    }
   ],
   "source": [
    "df"
   ]
  },
  {
   "cell_type": "code",
   "execution_count": 18,
   "metadata": {},
   "outputs": [
    {
     "data": {
      "text/plain": [
       "<bound method NDFrame.head of             ID                      Name Sex   Age  Height  Weight  \\\n",
       "0            1                 A Dijiang   M  24.0   180.0    80.0   \n",
       "1            2                  A Lamusi   M  23.0   170.0    60.0   \n",
       "2            3       Gunnar Nielsen Aaby   M  24.0     NaN     NaN   \n",
       "3            4      Edgar Lindenau Aabye   M  34.0     NaN     NaN   \n",
       "4            5  Christine Jacoba Aaftink   F  21.0   185.0    82.0   \n",
       "...        ...                       ...  ..   ...     ...     ...   \n",
       "271111  135569                Andrzej ya   M  29.0   179.0    89.0   \n",
       "271112  135570                  Piotr ya   M  27.0   176.0    59.0   \n",
       "271113  135570                  Piotr ya   M  27.0   176.0    59.0   \n",
       "271114  135571        Tomasz Ireneusz ya   M  30.0   185.0    96.0   \n",
       "271115  135571        Tomasz Ireneusz ya   M  34.0   185.0    96.0   \n",
       "\n",
       "                  Team  NOC        Games  Year  Season            City  \\\n",
       "0                China  CHN  1992 Summer  1992  Summer       Barcelona   \n",
       "1                China  CHN  2012 Summer  2012  Summer          London   \n",
       "2              Denmark  DEN  1920 Summer  1920  Summer       Antwerpen   \n",
       "3       Denmark/Sweden  DEN  1900 Summer  1900  Summer           Paris   \n",
       "4          Netherlands  NED  1988 Winter  1988  Winter         Calgary   \n",
       "...                ...  ...          ...   ...     ...             ...   \n",
       "271111        Poland-1  POL  1976 Winter  1976  Winter       Innsbruck   \n",
       "271112          Poland  POL  2014 Winter  2014  Winter           Sochi   \n",
       "271113          Poland  POL  2014 Winter  2014  Winter           Sochi   \n",
       "271114          Poland  POL  1998 Winter  1998  Winter          Nagano   \n",
       "271115          Poland  POL  2002 Winter  2002  Winter  Salt Lake City   \n",
       "\n",
       "                Sport                                     Event Medal  \n",
       "0          Basketball               Basketball Men's Basketball   NaN  \n",
       "1                Judo              Judo Men's Extra-Lightweight   NaN  \n",
       "2            Football                   Football Men's Football   NaN  \n",
       "3          Tug-Of-War               Tug-Of-War Men's Tug-Of-War  Gold  \n",
       "4       Speed Skating          Speed Skating Women's 500 metres   NaN  \n",
       "...               ...                                       ...   ...  \n",
       "271111           Luge                Luge Mixed (Men)'s Doubles   NaN  \n",
       "271112    Ski Jumping  Ski Jumping Men's Large Hill, Individual   NaN  \n",
       "271113    Ski Jumping        Ski Jumping Men's Large Hill, Team   NaN  \n",
       "271114      Bobsleigh                      Bobsleigh Men's Four   NaN  \n",
       "271115      Bobsleigh                      Bobsleigh Men's Four   NaN  \n",
       "\n",
       "[271116 rows x 15 columns]>"
      ]
     },
     "execution_count": 18,
     "metadata": {},
     "output_type": "execute_result"
    }
   ],
   "source": [
    "df.head"
   ]
  },
  {
   "cell_type": "markdown",
   "metadata": {},
   "source": [
    "## 1. Count of Cities"
   ]
  },
  {
   "cell_type": "code",
   "execution_count": 23,
   "metadata": {},
   "outputs": [
    {
     "name": "stdout",
     "output_type": "stream",
     "text": [
      "*************************************************************************\n",
      " Olympics is held in total of \"42\" Cities.\n",
      "*************************************************************************\n",
      "City Names are as follows : \n",
      "\n"
     ]
    }
   ],
   "source": [
    "data = []\n",
    "\n",
    "for cities in df['City'].unique():\n",
    "    data.append(cities)\n",
    "\n",
    "print(\"*************************************************************************\")\n",
    "print(\" Olympics is held in total of \"+ '\"' + length + '\"' + \" Cities.\" )\n",
    "print(\"*************************************************************************\")\n",
    "print(\"City Names are as follows : \\n\")\n",
    "length = str(len(data))    "
   ]
  },
  {
   "cell_type": "code",
   "execution_count": 22,
   "metadata": {},
   "outputs": [
    {
     "data": {
      "text/plain": [
       "['Barcelona',\n",
       " 'London',\n",
       " 'Antwerpen',\n",
       " 'Paris',\n",
       " 'Calgary',\n",
       " 'Albertville',\n",
       " 'Lillehammer',\n",
       " 'Los Angeles',\n",
       " 'Salt Lake City',\n",
       " 'Helsinki',\n",
       " 'Lake Placid',\n",
       " 'Sydney',\n",
       " 'Atlanta',\n",
       " 'Stockholm',\n",
       " 'Sochi',\n",
       " 'Nagano',\n",
       " 'Torino',\n",
       " 'Beijing',\n",
       " 'Rio de Janeiro',\n",
       " 'Athina',\n",
       " 'Squaw Valley',\n",
       " 'Innsbruck',\n",
       " 'Sarajevo',\n",
       " 'Mexico City',\n",
       " 'Munich',\n",
       " 'Seoul',\n",
       " 'Berlin',\n",
       " 'Oslo',\n",
       " \"Cortina d'Ampezzo\",\n",
       " 'Melbourne',\n",
       " 'Roma',\n",
       " 'Amsterdam',\n",
       " 'Montreal',\n",
       " 'Moskva',\n",
       " 'Tokyo',\n",
       " 'Vancouver',\n",
       " 'Grenoble',\n",
       " 'Sapporo',\n",
       " 'Chamonix',\n",
       " 'St. Louis',\n",
       " 'Sankt Moritz',\n",
       " 'Garmisch-Partenkirchen']"
      ]
     },
     "execution_count": 22,
     "metadata": {},
     "output_type": "execute_result"
    }
   ],
   "source": [
    "data"
   ]
  },
  {
   "cell_type": "markdown",
   "metadata": {},
   "source": [
    "##  2. Sports with highest number of Gold Medals"
   ]
  },
  {
   "cell_type": "code",
   "execution_count": 33,
   "metadata": {},
   "outputs": [
    {
     "name": "stdout",
     "output_type": "stream",
     "text": [
      "*************************************************************************\n",
      "All the Sports with Total no. of Gold Medals they Won are as follows:\n",
      "*************************************************************************\n",
      "\n",
      "            Sport  Gold_Medals\n",
      "16      Athletics         1339\n",
      "27       Swimming         1099\n",
      "10         Rowing          978\n",
      "1      Gymnastics          791\n",
      "29        Fencing          594\n",
      "..            ...          ...\n",
      "48       Racquets            3\n",
      "60  Basque Pelota            2\n",
      "63   Jeu De Paume            1\n",
      "64          Roque            1\n",
      "65    Aeronautics            1\n",
      "\n",
      "[66 rows x 2 columns]\n",
      "\n",
      "*************************************************************************\n",
      " 'Athletics' Sport is having most no. Gold Medals so far.\n",
      "*************************************************************************\n",
      "Top 5 Sports having most no. of Gold Medals are :\n",
      " \n",
      "1]Athletics         1339 \n",
      "2] Swimming         1099  \n",
      "3] Rowing           978 \n",
      "4] Gymnastics       791 \n",
      "5] Fencing          594\n",
      "-------------------------------------------------------------------------\n",
      "Plot of Top 5 Sports having most no. of Gold Medals is as Follows:\n",
      "-------------------------------------------------------------------------\n"
     ]
    },
    {
     "data": {
      "text/plain": [
       "<AxesSubplot:xlabel='Sport'>"
      ]
     },
     "execution_count": 33,
     "metadata": {},
     "output_type": "execute_result"
    },
    {
     "data": {
      "image/png": "[encoded data removed]",
      "text/plain": [
       "<Figure size 1440x360 with 1 Axes>"
      ]
     },
     "metadata": {
      "needs_background": "light"
     },
     "output_type": "display_data"
    }
   ],
   "source": [
    "medal= df[df['Medal'] == 'Gold']\n",
    "sports = []\n",
    "\n",
    "for sport in medal['Sport'].unique():\n",
    "    sports.append([sport,len(medal[medal['Sport'] == sport])])\n",
    "    \n",
    "\n",
    "sports = pd.DataFrame(sports,columns=['Sport','Gold_Medals'])\n",
    "sports = sports.sort_values(by ='Gold_Medals', ascending = False)\n",
    "print(\"*************************************************************************\")\n",
    "print(\"All the Sports with Total no. of Gold Medals they Won are as follows:\")\n",
    "print(\"*************************************************************************\\n\")\n",
    "print(sports)\n",
    "\n",
    "print(\"\\n*************************************************************************\")\n",
    "print(\" 'Athletics' Sport is having most no. Gold Medals so far.\")\n",
    "print(\"*************************************************************************\")\n",
    "print(\"Top 5 Sports having most no. of Gold Medals are :\\n \\n1]Athletics         1339 \\n2] Swimming         1099  \\n3] Rowing           978 \\n4] Gymnastics       791 \\n5] Fencing          594\")\n",
    "print(\"-------------------------------------------------------------------------\")\n",
    "print(\"Plot of Top 5 Sports having most no. of Gold Medals is as Follows:\")\n",
    "print(\"-------------------------------------------------------------------------\")\n",
    "sports = sports.sort_values(by ='Gold_Medals', ascending = False).head()\n",
    "sports.plot(x ='Sport',y ='Gold_Medals',kind = 'bar',figsize =(20,5),color = 'Blue')    "
   ]
  },
  {
   "cell_type": "markdown",
   "metadata": {},
   "source": [
    "# 3. Player with highest number of medals"
   ]
  },
  {
   "cell_type": "code",
   "execution_count": 40,
   "metadata": {},
   "outputs": [
    {
     "name": "stdout",
     "output_type": "stream",
     "text": [
      "*************************************************************************\n",
      "Athletes having Total no. of Medals they have won is as follows :\n",
      "*************************************************************************\n",
      "Name\n",
      "Michael Fred Phelps, II                            28\n",
      "Larysa Semenivna Latynina (Diriy-)                 18\n",
      "Nikolay Yefimovich Andrianov                       15\n",
      "Edoardo Mangiarotti                                13\n",
      "Borys Anfiyanovych Shakhlin                        13\n",
      "Ole Einar Bjrndalen                                13\n",
      "Takashi Ono                                        13\n",
      "Sawao Kato                                         12\n",
      "Aleksey Yuryevich Nemov                            12\n",
      "Paavo Johannes Nurmi                               12\n",
      "Birgit Fischer-Schmidt                             12\n",
      "Natalie Anne Coughlin (-Hall)                      12\n",
      "Jennifer Elisabeth \"Jenny\" Thompson (-Cumpelik)    12\n",
      "Ryan Steven Lochte                                 12\n",
      "Dara Grace Torres (-Hoffman, -Minas)               12\n",
      "Vra slavsk (-Odloilov)                             11\n",
      "Viktor Ivanovych Chukarin                          11\n",
      "Matthew Nicholas \"Matt\" Biondi                     11\n",
      "Carl Townsend Osburn                               11\n",
      "Aleksandr Vladimirovich Popov                      11\n",
      "Name: Medal, dtype: int64\n",
      "\n",
      "*************************************************************************\n",
      " 'PHELPS, Michael' Player has won most no. of Medals - '22' \n",
      "*************************************************************************\n",
      "Top 5 Athletes having most no. Medals are :\n",
      " \n",
      "1] PHELPS, Michael      - 28 \n",
      "2] LATYNINA, Larisa     - 18  \n",
      "3] ANDRIANOV, Nikolay   - 15 \n",
      "4] MANGIAROTTI, Edoardo - 13 \n",
      "5] SHAKHLIN, Boris      - 13\n",
      "-------------------------------------------------------------------------\n",
      "Plot of Top 5 Athletes having most no. of Medals is as Follows:\n",
      "-------------------------------------------------------------------------\n"
     ]
    },
    {
     "data": {
      "text/plain": [
       "<AxesSubplot:xlabel='Name'>"
      ]
     },
     "execution_count": 40,
     "metadata": {},
     "output_type": "execute_result"
    },
    {
     "data": {
      "image/png": "[encoded data removed]",
      "text/plain": [
       "<Figure size 1440x360 with 1 Axes>"
      ]
     },
     "metadata": {
      "needs_background": "light"
     },
     "output_type": "display_data"
    }
   ],
   "source": [
    "player_medals = df.groupby('Name').count()['Medal']\n",
    "print(\"*************************************************************************\")\n",
    "print(\"Athletes having Total no. of Medals they have won is as follows :\")\n",
    "print(\"*************************************************************************\")\n",
    "all_medals = player_medals.sort_values(ascending = False).head(20)              #To know the medals of all athletes remove 20 from \"head(20)\"\n",
    "print(all_medals)\n",
    "\n",
    "print(\"\\n*************************************************************************\")\n",
    "print(\" 'PHELPS, Michael' Player has won most no. of Medals - '22' \")\n",
    "print(\"*************************************************************************\")\n",
    "print(\"Top 5 Athletes having most no. Medals are :\\n \\n1] PHELPS, Michael      - 28 \\n2] LATYNINA, Larisa     - 18  \\n3] ANDRIANOV, Nikolay   - 15 \\n4] MANGIAROTTI, Edoardo - 13 \\n5] SHAKHLIN, Boris      - 13\")\n",
    "print(\"-------------------------------------------------------------------------\")\n",
    "print(\"Plot of Top 5 Athletes having most no. of Medals is as Follows:\")\n",
    "print(\"-------------------------------------------------------------------------\")\n",
    "mostss = player_medals.sort_values(ascending = False).head()\n",
    "mostss.plot.bar(figsize =(20,5),color = 'Gold')"
   ]
  },
  {
   "cell_type": "markdown",
   "metadata": {},
   "source": [
    "# 4. Sport with highest number of medals"
   ]
  },
  {
   "cell_type": "code",
   "execution_count": 44,
   "metadata": {
    "scrolled": true
   },
   "outputs": [
    {
     "name": "stdout",
     "output_type": "stream",
     "text": [
      "*************************************************************************\n",
      "Sports having Total no. of Medals they have won is as follows :\n",
      "*************************************************************************\n",
      "Sport\n",
      "Athletics        3969\n",
      "Swimming         3048\n",
      "Rowing           2945\n",
      "Gymnastics       2256\n",
      "Fencing          1743\n",
      "                 ... \n",
      "Motorboating        7\n",
      "Roque               3\n",
      "Jeu De Paume        3\n",
      "Basque Pelota       2\n",
      "Aeronautics         1\n",
      "Name: Medal, Length: 66, dtype: int64\n",
      "\n",
      "*************************************************************************\n",
      " 'Aquatics' Sport is having most no. Medals so far.\n",
      "*************************************************************************\n",
      "Top 5 Sports having most no. Medals are :\n",
      " \n",
      "1] Athletics        3969\n",
      "2] Swimming         3048 \n",
      "3] Rowing           2945\n",
      "4] Gymnastics       2256\n",
      "5] Fencing          1743\n",
      "-------------------------------------------------------------------------\n",
      "Plot of Top 5 Sports having most no. of Medals is as Follows:\n",
      "-------------------------------------------------------------------------\n"
     ]
    },
    {
     "data": {
      "text/plain": [
       "<AxesSubplot:xlabel='Sport'>"
      ]
     },
     "execution_count": 44,
     "metadata": {},
     "output_type": "execute_result"
    },
    {
     "data": {
      "image/png": "[encoded data removed]",
      "text/plain": [
       "<Figure size 1440x360 with 1 Axes>"
      ]
     },
     "metadata": {
      "needs_background": "light"
     },
     "output_type": "display_data"
    }
   ],
   "source": [
    "most_medals = df.groupby('Sport').count()['Medal']\n",
    "print(\"*************************************************************************\")\n",
    "print(\"Sports having Total no. of Medals they have won is as follows :\")\n",
    "print(\"*************************************************************************\")\n",
    "most = most_medals.sort_values(ascending = False)\n",
    "print(most)\n",
    "\n",
    "print(\"\\n*************************************************************************\")\n",
    "print(\" 'Aquatics' Sport is having most no. Medals so far.\")\n",
    "print(\"*************************************************************************\")\n",
    "print(\"Top 5 Sports having most no. Medals are :\\n \\n1] Athletics        3969\\n2] Swimming         3048 \\n3] Rowing           2945\\n4] Gymnastics       2256\\n5] Fencing          1743\")\n",
    "print(\"-------------------------------------------------------------------------\")\n",
    "print(\"Plot of Top 5 Sports having most no. of Medals is as Follows:\")\n",
    "print(\"-------------------------------------------------------------------------\")\n",
    "mosts = most_medals.sort_values(ascending = False).head()\n",
    "mosts.plot.bar(figsize =(20,5),color = 'Blue')"
   ]
  },
  {
   "cell_type": "markdown",
   "metadata": {},
   "source": [
    "# 5. India most wins"
   ]
  },
  {
   "cell_type": "code",
   "execution_count": 47,
   "metadata": {},
   "outputs": [
    {
     "name": "stdout",
     "output_type": "stream",
     "text": [
      "*************************************************************************\n",
      "All years in which India won Gold Medal are :\n",
      "---------------------------------------------\n",
      "\n",
      "[array([], dtype=int64)]\n",
      "\n",
      "\n",
      "*************************************************************************\n",
      "\n",
      "\n",
      "-------------------------------------------------------------------------\n",
      "In \"nan\" India won First Gold Medal in Summer Olympics\n",
      "-------------------------------------------------------------------------\n"
     ]
    }
   ],
   "source": [
    "Years = []\n",
    "\n",
    "gold_medal = df[df['Medal'] == 'Gold']\n",
    "Ind_yr = gold_medal[gold_medal['Team'] =='IND']\n",
    "Years.append(Ind_yr['Year'].unique())\n",
    "print(\"*************************************************************************\")\n",
    "print(\"All years in which India won Gold Medal are :\")\n",
    "print(\"---------------------------------------------\\n\")\n",
    "print(Years)\n",
    "print(\"\\n\\n*************************************************************************\")\n",
    "\n",
    "India_yr = gold_medal[gold_medal['Team'] =='IND']['Year'].min()\n",
    "Ind_year = str(India_yr)\n",
    "print(\"\\n\\n-------------------------------------------------------------------------\")\n",
    "print(\"In \"+ '\"' + Ind_year + '\"' + \" India won First Gold Medal in Summer Olympics\")\n",
    "print(\"-------------------------------------------------------------------------\")"
   ]
  },
  {
   "cell_type": "code",
   "execution_count": null,
   "metadata": {},
   "outputs": [],
   "source": []
  }
 ],
 "metadata": {
  "kernelspec": {
   "display_name": "Python 3",
   "language": "python",
   "name": "python3"
  },
  "language_info": {
   "codemirror_mode": {
    "name": "ipython",
    "version": 3
   },
   "file_extension": ".py",
   "mimetype": "text/x-python",
   "name": "python",
   "nbconvert_exporter": "python",
   "pygments_lexer": "ipython3",
   "version": "3.8.5"
  }
 },
 "nbformat": 4,
 "nbformat_minor": 4
}
